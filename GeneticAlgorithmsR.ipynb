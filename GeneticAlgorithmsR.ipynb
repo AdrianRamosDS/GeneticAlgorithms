{
 "cells": [
  {
   "cell_type": "markdown",
   "id": "c71b96a1",
   "metadata": {},
   "source": [
    "# Genetic Algorithms in R\n",
    "-------"
   ]
  },
  {
   "cell_type": "markdown",
   "id": "b5bb016d",
   "metadata": {},
   "source": [
    "<h3 class=\"list-group-item list-group-item-action active\" data-toggle=\"list\"  role=\"tab\" aria-controls=\"home\" style=\"background-color:#004270;\">Table of Contents:</h3>\n",
    "<a class=\"list-group-item list-group-item-action\" data-toggle=\"list\" href=\"#df\" role=\"tab\" aria-controls=\"profile\"> Data Frame <span class=\"badge badge-primary badge-pill\">1</span></a>\n",
    "<a class=\"list-group-item list-group-item-action\" data-toggle=\"list\" href=\"#fit\" role=\"tab\" aria-controls=\"profile\"> Fitness Function <span class=\"badge badge-primary badge-pill\">2</span></a>"
   ]
  },
  {
   "cell_type": "markdown",
   "id": "3104bec6",
   "metadata": {},
   "source": [
    "Library \"genalg\" shall be installed:"
   ]
  },
  {
   "cell_type": "raw",
   "id": "20755c15",
   "metadata": {},
   "source": [
    "install.packages(\"genalg\")"
   ]
  },
  {
   "cell_type": "code",
   "execution_count": 5,
   "id": "b0eb355b",
   "metadata": {},
   "outputs": [],
   "source": [
    "library(genalg)"
   ]
  },
  {
   "cell_type": "code",
   "execution_count": 6,
   "id": "8a7a8d09",
   "metadata": {},
   "outputs": [],
   "source": [
    "time.limit <- 30"
   ]
  },
  {
   "cell_type": "markdown",
   "id": "b59e054d",
   "metadata": {},
   "source": [
    "### Definition of items, cost and benefit vectors:"
   ]
  },
  {
   "cell_type": "code",
   "execution_count": 21,
   "id": "292d0991",
   "metadata": {},
   "outputs": [
    {
     "data": {
      "text/html": [
       "<ol class=list-inline>\n",
       "\t<li>'1'</li>\n",
       "\t<li>'2'</li>\n",
       "\t<li>'3'</li>\n",
       "\t<li>'4'</li>\n",
       "\t<li>'5'</li>\n",
       "\t<li>'6'</li>\n",
       "\t<li>'7'</li>\n",
       "\t<li>'8'</li>\n",
       "\t<li>'9'</li>\n",
       "</ol>\n"
      ],
      "text/latex": [
       "\\begin{enumerate*}\n",
       "\\item '1'\n",
       "\\item '2'\n",
       "\\item '3'\n",
       "\\item '4'\n",
       "\\item '5'\n",
       "\\item '6'\n",
       "\\item '7'\n",
       "\\item '8'\n",
       "\\item '9'\n",
       "\\end{enumerate*}\n"
      ],
      "text/markdown": [
       "1. '1'\n",
       "2. '2'\n",
       "3. '3'\n",
       "4. '4'\n",
       "5. '5'\n",
       "6. '6'\n",
       "7. '7'\n",
       "8. '8'\n",
       "9. '9'\n",
       "\n",
       "\n"
      ],
      "text/plain": [
       "[1] \"1\" \"2\" \"3\" \"4\" \"5\" \"6\" \"7\" \"8\" \"9\""
      ]
     },
     "metadata": {},
     "output_type": "display_data"
    },
    {
     "data": {
      "text/html": [
       "9"
      ],
      "text/latex": [
       "9"
      ],
      "text/markdown": [
       "9"
      ],
      "text/plain": [
       "[1] 9"
      ]
     },
     "metadata": {},
     "output_type": "display_data"
    }
   ],
   "source": [
    "items <- c(\"1\",\"2\",\"3\",\"4\",\"5\",\"6\",\"7\",\"8\",\"9\")\n",
    "items\n",
    "length(items)"
   ]
  },
  {
   "cell_type": "code",
   "execution_count": 20,
   "id": "2130d790",
   "metadata": {},
   "outputs": [
    {
     "data": {
      "text/html": [
       "<ol class=list-inline>\n",
       "\t<li>3</li>\n",
       "\t<li>15</li>\n",
       "\t<li>12</li>\n",
       "\t<li>7</li>\n",
       "\t<li>25</li>\n",
       "\t<li>5</li>\n",
       "\t<li>10</li>\n",
       "\t<li>15</li>\n",
       "\t<li>15</li>\n",
       "\t<li>15</li>\n",
       "</ol>\n"
      ],
      "text/latex": [
       "\\begin{enumerate*}\n",
       "\\item 3\n",
       "\\item 15\n",
       "\\item 12\n",
       "\\item 7\n",
       "\\item 25\n",
       "\\item 5\n",
       "\\item 10\n",
       "\\item 15\n",
       "\\item 15\n",
       "\\item 15\n",
       "\\end{enumerate*}\n"
      ],
      "text/markdown": [
       "1. 3\n",
       "2. 15\n",
       "3. 12\n",
       "4. 7\n",
       "5. 25\n",
       "6. 5\n",
       "7. 10\n",
       "8. 15\n",
       "9. 15\n",
       "10. 15\n",
       "\n",
       "\n"
      ],
      "text/plain": [
       " [1]  3 15 12  7 25  5 10 15 15 15"
      ]
     },
     "metadata": {},
     "output_type": "display_data"
    },
    {
     "data": {
      "text/html": [
       "10"
      ],
      "text/latex": [
       "10"
      ],
      "text/markdown": [
       "10"
      ],
      "text/plain": [
       "[1] 10"
      ]
     },
     "metadata": {},
     "output_type": "display_data"
    }
   ],
   "source": [
    "cost <- c(3L, 15L, 12L, 7L, 25L, 5L, 10L, 15L, 15L, 15L)\n",
    "cost\n",
    "length(cost)"
   ]
  },
  {
   "cell_type": "code",
   "execution_count": 19,
   "id": "45135c6c",
   "metadata": {},
   "outputs": [
    {
     "data": {
      "text/html": [
       "<ol class=list-inline>\n",
       "\t<li>90</li>\n",
       "\t<li>80</li>\n",
       "\t<li>40</li>\n",
       "\t<li>5</li>\n",
       "\t<li>5</li>\n",
       "\t<li>100</li>\n",
       "\t<li>1</li>\n",
       "\t<li>20</li>\n",
       "\t<li>5</li>\n",
       "\t<li>5</li>\n",
       "</ol>\n"
      ],
      "text/latex": [
       "\\begin{enumerate*}\n",
       "\\item 90\n",
       "\\item 80\n",
       "\\item 40\n",
       "\\item 5\n",
       "\\item 5\n",
       "\\item 100\n",
       "\\item 1\n",
       "\\item 20\n",
       "\\item 5\n",
       "\\item 5\n",
       "\\end{enumerate*}\n"
      ],
      "text/markdown": [
       "1. 90\n",
       "2. 80\n",
       "3. 40\n",
       "4. 5\n",
       "5. 5\n",
       "6. 100\n",
       "7. 1\n",
       "8. 20\n",
       "9. 5\n",
       "10. 5\n",
       "\n",
       "\n"
      ],
      "text/plain": [
       " [1]  90  80  40   5   5 100   1  20   5   5"
      ]
     },
     "metadata": {},
     "output_type": "display_data"
    },
    {
     "data": {
      "text/html": [
       "10"
      ],
      "text/latex": [
       "10"
      ],
      "text/markdown": [
       "10"
      ],
      "text/plain": [
       "[1] 10"
      ]
     },
     "metadata": {},
     "output_type": "display_data"
    }
   ],
   "source": [
    "benefit <- c(90L, 80L, 40L, 5L, 5L, 100L, 1L, 20L, 5L, 5L)\n",
    "benefit\n",
    "length(benefit)"
   ]
  },
  {
   "cell_type": "markdown",
   "id": "cd28e789",
   "metadata": {},
   "source": [
    "### Data Frame generation: <a id=\"df\"></a> "
   ]
  },
  {
   "cell_type": "code",
   "execution_count": 14,
   "id": "e5430f09",
   "metadata": {},
   "outputs": [
    {
     "ename": "ERROR",
     "evalue": "Error in data.frame(items = items, cost = cost, benefit = benefit): objeto 'benefit' no encontrado\n",
     "output_type": "error",
     "traceback": [
      "Error in data.frame(items = items, cost = cost, benefit = benefit): objeto 'benefit' no encontrado\nTraceback:\n",
      "1. data.frame(items = items, cost = cost, benefit = benefit)"
     ]
    }
   ],
   "source": [
    "plan.morning <- data.frame(items=items, cost=cost, benefit=benefit)\n",
    "plan.morning"
   ]
  },
  {
   "cell_type": "code",
   "execution_count": null,
   "id": "687e8317",
   "metadata": {},
   "outputs": [],
   "source": []
  },
  {
   "cell_type": "markdown",
   "id": "f47bc46f",
   "metadata": {},
   "source": [
    "## Defining the <font color=\"red\">fitness function</font>:  <a id=\"fit\"></a>"
   ]
  },
  {
   "cell_type": "code",
   "execution_count": null,
   "id": "b1e0c47e",
   "metadata": {},
   "outputs": [],
   "source": []
  },
  {
   "cell_type": "code",
   "execution_count": null,
   "id": "83c5c041",
   "metadata": {},
   "outputs": [],
   "source": []
  }
 ],
 "metadata": {
  "kernelspec": {
   "display_name": "R",
   "language": "R",
   "name": "ir"
  },
  "language_info": {
   "codemirror_mode": "r",
   "file_extension": ".r",
   "mimetype": "text/x-r-source",
   "name": "R",
   "pygments_lexer": "r",
   "version": "3.6.1"
  }
 },
 "nbformat": 4,
 "nbformat_minor": 5
}
